{
 "cells": [
  {
   "cell_type": "code",
   "execution_count": 13,
   "metadata": {
    "collapsed": true,
    "pycharm": {
     "is_executing": false
    }
   },
   "outputs": [],
   "source": [
    "import numpy as np\n",
    "import pandas as pd\n",
    "import matplotlib.pyplot as plt\n",
    "from scipy.sparse.linalg import svds\n",
    "from sklearn.model_selection import train_test_split"
   ]
  },
  {
   "cell_type": "code",
   "execution_count": 14,
   "outputs": [],
   "source": [
    "ratings_path = 'movielens_1m/ratings.dat'\n",
    "users_path = 'movielens_1m/users.dat'\n",
    "movies_path = 'movielens_1m/movies.dat'"
   ],
   "metadata": {
    "collapsed": false,
    "pycharm": {
     "name": "#%%\n",
     "is_executing": false
    }
   }
  },
  {
   "cell_type": "code",
   "execution_count": 15,
   "outputs": [
    {
     "name": "stderr",
     "text": [
      "C:\\Users\\wzmao\\Anaconda3\\envs\\Recommender_System\\lib\\site-packages\\ipykernel_launcher.py:1: ParserWarning: Falling back to the 'python' engine because the 'c' engine does not support regex separators (separators > 1 char and different from '\\s+' are interpreted as regex); you can avoid this warning by specifying engine='python'.\n",
      "  \"\"\"Entry point for launching an IPython kernel.\n"
     ],
     "output_type": "stream"
    }
   ],
   "source": [
    "ratings = pd.read_csv(ratings_path, sep=\"::\", names=['UserID', 'MovieID', 'Rating', 'Timestamp'])"
   ],
   "metadata": {
    "collapsed": false,
    "pycharm": {
     "name": "#%%\n",
     "is_executing": false
    }
   }
  },
  {
   "cell_type": "code",
   "execution_count": 16,
   "outputs": [
    {
     "data": {
      "text/plain": "   UserID  MovieID  Rating  Timestamp\n0       1     1193       5  978300760\n1       1      661       3  978302109\n2       1      914       3  978301968\n3       1     3408       4  978300275\n4       1     2355       5  978824291",
      "text/html": "<div>\n<style scoped>\n    .dataframe tbody tr th:only-of-type {\n        vertical-align: middle;\n    }\n\n    .dataframe tbody tr th {\n        vertical-align: top;\n    }\n\n    .dataframe thead th {\n        text-align: right;\n    }\n</style>\n<table border=\"1\" class=\"dataframe\">\n  <thead>\n    <tr style=\"text-align: right;\">\n      <th></th>\n      <th>UserID</th>\n      <th>MovieID</th>\n      <th>Rating</th>\n      <th>Timestamp</th>\n    </tr>\n  </thead>\n  <tbody>\n    <tr>\n      <th>0</th>\n      <td>1</td>\n      <td>1193</td>\n      <td>5</td>\n      <td>978300760</td>\n    </tr>\n    <tr>\n      <th>1</th>\n      <td>1</td>\n      <td>661</td>\n      <td>3</td>\n      <td>978302109</td>\n    </tr>\n    <tr>\n      <th>2</th>\n      <td>1</td>\n      <td>914</td>\n      <td>3</td>\n      <td>978301968</td>\n    </tr>\n    <tr>\n      <th>3</th>\n      <td>1</td>\n      <td>3408</td>\n      <td>4</td>\n      <td>978300275</td>\n    </tr>\n    <tr>\n      <th>4</th>\n      <td>1</td>\n      <td>2355</td>\n      <td>5</td>\n      <td>978824291</td>\n    </tr>\n  </tbody>\n</table>\n</div>"
     },
     "metadata": {},
     "output_type": "execute_result",
     "execution_count": 16
    }
   ],
   "source": [
    "ratings.head()"
   ],
   "metadata": {
    "collapsed": false,
    "pycharm": {
     "name": "#%%\n",
     "is_executing": false
    }
   }
  },
  {
   "cell_type": "markdown",
   "source": [
    "Split into train and test data"
   ],
   "metadata": {
    "collapsed": false
   }
  },
  {
   "cell_type": "code",
   "execution_count": 17,
   "outputs": [],
   "source": [
    "np.random.seed(1234)\n",
    "# train data ratio\n",
    "x = 0.8\n",
    "train, test = train_test_split(ratings, train_size=x)"
   ],
   "metadata": {
    "collapsed": false,
    "pycharm": {
     "name": "#%%\n",
     "is_executing": false
    }
   }
  },
  {
   "cell_type": "code",
   "execution_count": 18,
   "outputs": [
    {
     "name": "stdout",
     "text": [
      "\n",
      "Number of users: 6040 \n",
      "\n",
      "Number of movies: 3683\n"
     ],
     "output_type": "stream"
    }
   ],
   "source": [
    "unique_users = sorted(list(set(train.UserID)))\n",
    "unique_movies = sorted(list(set(train.MovieID)))\n",
    "user_map, movie_map = {}, {}\n",
    "for idx, userID in enumerate(unique_users):\n",
    "    user_map[userID] = idx\n",
    "for idx, itemID in enumerate(unique_movies):\n",
    "    movie_map[itemID] = idx\n",
    "n_users = len(unique_users)\n",
    "n_movies = len(unique_movies)\n",
    "print(f'\\nNumber of users: {n_users} \\n')\n",
    "print(f'Number of movies: {n_movies}')\n"
   ],
   "metadata": {
    "collapsed": false,
    "pycharm": {
     "name": "#%%\n",
     "is_executing": false
    }
   }
  },
  {
   "cell_type": "code",
   "execution_count": 19,
   "outputs": [],
   "source": [
    "train.reset_index(inplace=True)\n",
    "samples = []\n",
    "for idx in range(train.shape[0]):\n",
    "    u = user_map[train['UserID'][idx]]\n",
    "    i = movie_map[train['MovieID'][idx]]\n",
    "    r = train['Rating'][idx]\n",
    "    samples.append((u, i, r))"
   ],
   "metadata": {
    "collapsed": false,
    "pycharm": {
     "name": "#%%\n",
     "is_executing": false
    }
   }
  },
  {
   "cell_type": "markdown",
   "source": [
    "Initialize P, Q"
   ],
   "metadata": {
    "collapsed": false,
    "pycharm": {
     "name": "#%% md\n",
     "is_executing": false
    }
   }
  },
  {
   "cell_type": "code",
   "execution_count": 20,
   "outputs": [],
   "source": [
    "k = 10\n",
    "P = np.random.normal(scale=1./k, size=(n_users, k))\n",
    "Q = np.random.normal(scale=1./k, size=(n_movies, k))\n",
    "b_u = np.zeros(n_users)\n",
    "b_i = np.zeros(n_movies)\n",
    "mu = np.mean([s[2] for s in samples])"
   ],
   "metadata": {
    "collapsed": false,
    "pycharm": {
     "name": "#%%\n",
     "is_executing": false
    }
   }
  },
  {
   "cell_type": "code",
   "execution_count": 21,
   "outputs": [],
   "source": [
    "def predict(P, Q, b_u, b_i, mu, u, i):\n",
    "    assert P.shape[1] == Q.shape[1], 'Shapes of P and Q does not match!'\n",
    "    p, q = P[u, :], Q[i, :]\n",
    "    res = mu + b_u[u] + b_i[i] + np.inner(p, q)\n",
    "    return res\n",
    "\n",
    "def sgd(P, Q, b_u, b_i, mu, samples, lr=0.1, lambd=0.01):\n",
    "    for u, i, r in samples:\n",
    "        pred_val = predict(P, Q, b_u, b_i, mu, u, i)\n",
    "        e = r - pred_val\n",
    "        b_i[i] += lr * (e - lambd*b_i[i])\n",
    "        b_u[u] += lr * (e - lambd*b_u[u])\n",
    "        Q_i = Q[i, :].copy()\n",
    "        Q[i, :] += lr * (e*P[u, :] - lambd*Q[i, :])\n",
    "        P[u, :] += lr * (e*Q_i - lambd*P[u, :])\n",
    "    return P, Q, b_u, b_i\n",
    "\n",
    "def mse(P, Q, b_u, b_i, mu, samples):\n",
    "    predicted = get_full_matrix(P, Q, b_u, b_i, mu)\n",
    "    error = 0\n",
    "    for u, i, r in samples:\n",
    "        pred_val = predicted[u, i]\n",
    "        e = r - pred_val\n",
    "        error += pow(e, 2)\n",
    "    return error / len(samples)\n",
    "\n",
    "def get_full_matrix(P, Q, b_u, b_i, mu):\n",
    "    matrix = np.matmul(P, Q.transpose())\n",
    "    n_u = len(b_u)\n",
    "    n_i = len(b_i)\n",
    "    for u in range(n_u):\n",
    "        matrix[u, :] += np.array([b_u[u]] * n_i)\n",
    "    for i in range(n_i):\n",
    "        matrix[:, i] += np.array([b_i[i]] * n_u)\n",
    "    matrix += np.array([[mu] * n_i for _ in range(n_u)])\n",
    "    return matrix\n",
    "        "
   ],
   "metadata": {
    "collapsed": false,
    "pycharm": {
     "name": "#%%\n",
     "is_executing": false
    }
   }
  },
  {
   "cell_type": "code",
   "execution_count": 22,
   "outputs": [
    {
     "name": "stdout",
     "text": [
      "Iteration: 1 ; error = 0.8061\n",
      "Iteration: 2 ; error = 0.7645\n",
      "Iteration: 3 ; error = 0.7441\n",
      "Iteration: 4 ; error = 0.7350\n",
      "Iteration: 5 ; error = 0.7303\n",
      "Iteration: 6 ; error = 0.7314\n",
      "Iteration: 7 ; error = 0.7273\n",
      "Iteration: 8 ; error = 0.7239\n",
      "Iteration: 9 ; error = 0.7286\n",
      "Iteration: 10 ; error = 0.7271\n",
      "Iteration: 11 ; error = 0.7237\n",
      "Iteration: 12 ; error = 0.7221\n",
      "Iteration: 13 ; error = 0.7197\n",
      "Iteration: 14 ; error = 0.7203\n",
      "Iteration: 15 ; error = 0.7222\n",
      "Iteration: 16 ; error = 0.7189\n",
      "Iteration: 17 ; error = 0.7240\n",
      "Iteration: 18 ; error = 0.7209\n",
      "Iteration: 19 ; error = 0.7216\n",
      "Iteration: 20 ; error = 0.7230\n",
      "Iteration: 21 ; error = 0.7220\n",
      "Iteration: 22 ; error = 0.7217\n",
      "Iteration: 23 ; error = 0.7186\n",
      "Iteration: 24 ; error = 0.7223\n",
      "Iteration: 25 ; error = 0.7204\n",
      "Iteration: 26 ; error = 0.7240\n",
      "Iteration: 27 ; error = 0.7196\n",
      "Iteration: 28 ; error = 0.7216\n",
      "Iteration: 29 ; error = 0.7221\n",
      "Iteration: 30 ; error = 0.7156\n",
      "Iteration: 31 ; error = 0.7243\n",
      "Iteration: 32 ; error = 0.7187\n",
      "Iteration: 33 ; error = 0.7228\n",
      "Iteration: 34 ; error = 0.7213\n",
      "Iteration: 35 ; error = 0.7225\n",
      "Iteration: 36 ; error = 0.7250\n",
      "Iteration: 37 ; error = 0.7255\n",
      "Iteration: 38 ; error = 0.7190\n",
      "Iteration: 39 ; error = 0.7191\n",
      "Iteration: 40 ; error = 0.7201\n",
      "Iteration: 41 ; error = 0.7236\n",
      "Iteration: 42 ; error = 0.7234\n",
      "Iteration: 43 ; error = 0.7187\n",
      "Iteration: 44 ; error = 0.7216\n",
      "Iteration: 45 ; error = 0.7212\n",
      "Iteration: 46 ; error = 0.7219\n",
      "Iteration: 47 ; error = 0.7207\n",
      "Iteration: 48 ; error = 0.7217\n",
      "Iteration: 49 ; error = 0.7203\n",
      "Iteration: 50 ; error = 0.7180\n",
      "Iteration: 51 ; error = 0.7192\n",
      "Iteration: 52 ; error = 0.7255\n",
      "Iteration: 53 ; error = 0.7184\n",
      "Iteration: 54 ; error = 0.7184\n",
      "Iteration: 55 ; error = 0.7204\n",
      "Iteration: 56 ; error = 0.7204\n",
      "Iteration: 57 ; error = 0.7222\n",
      "Iteration: 58 ; error = 0.7237\n",
      "Iteration: 59 ; error = 0.7210\n",
      "Iteration: 60 ; error = 0.7208\n",
      "Iteration: 61 ; error = 0.7225\n",
      "Iteration: 62 ; error = 0.7194\n",
      "Iteration: 63 ; error = 0.7218\n",
      "Iteration: 64 ; error = 0.7190\n",
      "Iteration: 65 ; error = 0.7231\n",
      "Iteration: 66 ; error = 0.7184\n",
      "Iteration: 67 ; error = 0.7209\n",
      "Iteration: 68 ; error = 0.7217\n",
      "Iteration: 69 ; error = 0.7221\n",
      "Iteration: 70 ; error = 0.7229\n",
      "Iteration: 71 ; error = 0.7212\n",
      "Iteration: 72 ; error = 0.7225\n",
      "Iteration: 73 ; error = 0.7206\n",
      "Iteration: 74 ; error = 0.7203\n",
      "Iteration: 75 ; error = 0.7246\n",
      "Iteration: 76 ; error = 0.7165\n",
      "Iteration: 77 ; error = 0.7217\n",
      "Iteration: 78 ; error = 0.7193\n",
      "Iteration: 79 ; error = 0.7220\n",
      "Iteration: 80 ; error = 0.7211\n",
      "Iteration: 81 ; error = 0.7220\n",
      "Iteration: 82 ; error = 0.7235\n",
      "Iteration: 83 ; error = 0.7239\n",
      "Iteration: 84 ; error = 0.7167\n",
      "Iteration: 85 ; error = 0.7188\n",
      "Iteration: 86 ; error = 0.7166\n",
      "Iteration: 87 ; error = 0.7211\n",
      "Iteration: 88 ; error = 0.7237\n",
      "Iteration: 89 ; error = 0.7211\n",
      "Iteration: 90 ; error = 0.7226\n",
      "Iteration: 91 ; error = 0.7200\n",
      "Iteration: 92 ; error = 0.7205\n",
      "Iteration: 93 ; error = 0.7182\n",
      "Iteration: 94 ; error = 0.7210\n",
      "Iteration: 95 ; error = 0.7175\n",
      "Iteration: 96 ; error = 0.7226\n",
      "Iteration: 97 ; error = 0.7204\n",
      "Iteration: 98 ; error = 0.7251\n",
      "Iteration: 99 ; error = 0.7181\n",
      "Iteration: 100 ; error = 0.7237\n"
     ],
     "output_type": "stream"
    }
   ],
   "source": [
    "n_iter = 100\n",
    "lr = 0.1\n",
    "lambd = 0.01\n",
    "training_process = []\n",
    "for idx in range(n_iter):\n",
    "    np.random.shuffle(samples)\n",
    "    P, Q, b_u, b_i = sgd(P, Q, b_u, b_i, mu, samples, lr=lr, lambd=lambd)\n",
    "    error = mse(P, Q, b_u, b_i, mu, samples)\n",
    "    training_process.append((idx, error))\n",
    "    if (idx + 1) % 1 == 0:\n",
    "        print(\"Iteration: %d ; error = %.4f\" % (idx+1, error))\n",
    "    "
   ],
   "metadata": {
    "collapsed": false,
    "pycharm": {
     "name": "#%%\n",
     "is_executing": false
    }
   }
  },
  {
   "cell_type": "code",
   "execution_count": null,
   "outputs": [],
   "source": [
    "\n"
   ],
   "metadata": {
    "collapsed": false,
    "pycharm": {
     "name": "#%%\n"
    }
   }
  }
 ],
 "metadata": {
  "kernelspec": {
   "display_name": "Python 3",
   "language": "python",
   "name": "python3"
  },
  "language_info": {
   "codemirror_mode": {
    "name": "ipython",
    "version": 2
   },
   "file_extension": ".py",
   "mimetype": "text/x-python",
   "name": "python",
   "nbconvert_exporter": "python",
   "pygments_lexer": "ipython2",
   "version": "2.7.6"
  },
  "pycharm": {
   "stem_cell": {
    "cell_type": "raw",
    "source": [],
    "metadata": {
     "collapsed": false
    }
   }
  }
 },
 "nbformat": 4,
 "nbformat_minor": 0
}