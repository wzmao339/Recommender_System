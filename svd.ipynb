{
 "cells": [
  {
   "cell_type": "code",
   "execution_count": 1,
   "metadata": {
    "collapsed": true,
    "pycharm": {
     "is_executing": false
    }
   },
   "outputs": [],
   "source": [
    "import numpy as np\n",
    "import pandas as pd\n",
    "import matplotlib.pyplot as plt\n",
    "from scipy.sparse.linalg import svds\n",
    "from sklearn.model_selection import train_test_split"
   ]
  },
  {
   "cell_type": "markdown",
   "source": [
    "Loading data"
   ],
   "metadata": {
    "collapsed": false,
    "pycharm": {
     "name": "#%% md\n"
    }
   }
  },
  {
   "cell_type": "code",
   "execution_count": 2,
   "outputs": [],
   "source": [
    "ratings_path = 'movielens_1m/ratings.dat'\n",
    "users_path = 'movielens_1m/users.dat'\n",
    "movies_path = 'movielens_1m/movies.dat'"
   ],
   "metadata": {
    "collapsed": false,
    "pycharm": {
     "name": "#%%\n",
     "is_executing": false
    }
   }
  },
  {
   "cell_type": "code",
   "execution_count": 3,
   "outputs": [
    {
     "name": "stderr",
     "text": [
      "C:\\Users\\wzmao\\Anaconda3\\envs\\Recommender_System\\lib\\site-packages\\ipykernel_launcher.py:1: ParserWarning: Falling back to the 'python' engine because the 'c' engine does not support regex separators (separators > 1 char and different from '\\s+' are interpreted as regex); you can avoid this warning by specifying engine='python'.\n",
      "  \"\"\"Entry point for launching an IPython kernel.\n"
     ],
     "output_type": "stream"
    }
   ],
   "source": [
    "ratings = pd.read_csv(ratings_path, sep=\"::\", names=['UserID', 'MovieID', 'Rating', 'Timestamp'])"
   ],
   "metadata": {
    "collapsed": false,
    "pycharm": {
     "name": "#%%\n",
     "is_executing": false
    }
   }
  },
  {
   "cell_type": "code",
   "execution_count": 4,
   "outputs": [
    {
     "data": {
      "text/plain": "   UserID  MovieID  Rating  Timestamp\n0       1     1193       5  978300760\n1       1      661       3  978302109\n2       1      914       3  978301968\n3       1     3408       4  978300275\n4       1     2355       5  978824291",
      "text/html": "<div>\n<style scoped>\n    .dataframe tbody tr th:only-of-type {\n        vertical-align: middle;\n    }\n\n    .dataframe tbody tr th {\n        vertical-align: top;\n    }\n\n    .dataframe thead th {\n        text-align: right;\n    }\n</style>\n<table border=\"1\" class=\"dataframe\">\n  <thead>\n    <tr style=\"text-align: right;\">\n      <th></th>\n      <th>UserID</th>\n      <th>MovieID</th>\n      <th>Rating</th>\n      <th>Timestamp</th>\n    </tr>\n  </thead>\n  <tbody>\n    <tr>\n      <th>0</th>\n      <td>1</td>\n      <td>1193</td>\n      <td>5</td>\n      <td>978300760</td>\n    </tr>\n    <tr>\n      <th>1</th>\n      <td>1</td>\n      <td>661</td>\n      <td>3</td>\n      <td>978302109</td>\n    </tr>\n    <tr>\n      <th>2</th>\n      <td>1</td>\n      <td>914</td>\n      <td>3</td>\n      <td>978301968</td>\n    </tr>\n    <tr>\n      <th>3</th>\n      <td>1</td>\n      <td>3408</td>\n      <td>4</td>\n      <td>978300275</td>\n    </tr>\n    <tr>\n      <th>4</th>\n      <td>1</td>\n      <td>2355</td>\n      <td>5</td>\n      <td>978824291</td>\n    </tr>\n  </tbody>\n</table>\n</div>"
     },
     "metadata": {},
     "output_type": "execute_result",
     "execution_count": 4
    }
   ],
   "source": [
    "ratings.head()"
   ],
   "metadata": {
    "collapsed": false,
    "pycharm": {
     "name": "#%%\n",
     "is_executing": false
    }
   }
  },
  {
   "cell_type": "markdown",
   "source": [
    "Split into train and test data"
   ],
   "metadata": {
    "collapsed": false
   }
  },
  {
   "cell_type": "code",
   "execution_count": 21,
   "outputs": [],
   "source": [
    "np.random.seed(1234)\n",
    "# train data ratio\n",
    "x = 0.8\n",
    "train, test = train_test_split(ratings, train_size=x)"
   ],
   "metadata": {
    "collapsed": false,
    "pycharm": {
     "name": "#%%\n",
     "is_executing": false
    }
   }
  },
  {
   "cell_type": "markdown",
   "source": [
    "Count the number of unique users (m) and movies (n) in train set."
   ],
   "metadata": {
    "collapsed": false,
    "pycharm": {
     "name": "#%% md\n"
    }
   }
  },
  {
   "cell_type": "code",
   "execution_count": 22,
   "outputs": [
    {
     "name": "stdout",
     "text": [
      "\n",
      "Number of users: 6040 \n",
      "\n",
      "Number of movies: 3683\n"
     ],
     "output_type": "stream"
    }
   ],
   "source": [
    "unique_users = sorted(list(set(train.UserID)))\n",
    "unique_movies = sorted(list(set(train.MovieID)))\n",
    "user_map, movie_map = {}, {}\n",
    "for idx, userID in enumerate(unique_users):\n",
    "    user_map[userID] = idx\n",
    "for idx, itemID in enumerate(unique_movies):\n",
    "    movie_map[itemID] = idx\n",
    "n_users = len(unique_users)\n",
    "n_movies = len(unique_movies)\n",
    "print(f'\\nNumber of users: {n_users} \\n')\n",
    "print(f'Number of movies: {n_movies}')\n"
   ],
   "metadata": {
    "collapsed": false,
    "pycharm": {
     "name": "#%%\n",
     "is_executing": false
    }
   }
  },
  {
   "cell_type": "markdown",
   "source": [
    "Convert the data above to a sparse m x n matrix, where each row is one user, \n",
    "each column is one movie, and the value is the rating. This is so-called \n",
    "\"customer-product ratings matrix\"."
   ],
   "metadata": {
    "collapsed": false,
    "pycharm": {
     "name": "#%% md\n",
     "is_executing": false
    }
   }
  },
  {
   "cell_type": "code",
   "execution_count": 23,
   "outputs": [],
   "source": [
    "R = train.pivot(index='UserID', columns='MovieID', values='Rating')"
   ],
   "metadata": {
    "collapsed": false,
    "pycharm": {
     "name": "#%%\n",
     "is_executing": false
    }
   }
  },
  {
   "cell_type": "code",
   "execution_count": 24,
   "outputs": [
    {
     "name": "stdout",
     "text": [
      "MovieID  1     2     3     4     5     6     7     8     9     10    ...  \\\n",
      "UserID                                                               ...   \n",
      "1         5.0   NaN   NaN   NaN   NaN   NaN   NaN   NaN   NaN   NaN  ...   \n",
      "2         NaN   NaN   NaN   NaN   NaN   NaN   NaN   NaN   NaN   NaN  ...   \n",
      "3         NaN   NaN   NaN   NaN   NaN   NaN   NaN   NaN   NaN   NaN  ...   \n",
      "4         NaN   NaN   NaN   NaN   NaN   NaN   NaN   NaN   NaN   NaN  ...   \n",
      "5         NaN   NaN   NaN   NaN   NaN   2.0   NaN   NaN   NaN   NaN  ...   \n",
      "...       ...   ...   ...   ...   ...   ...   ...   ...   ...   ...  ...   \n",
      "6036      NaN   NaN   NaN   NaN   NaN   NaN   NaN   NaN   NaN   NaN  ...   \n",
      "6037      NaN   NaN   NaN   NaN   NaN   NaN   NaN   NaN   NaN   NaN  ...   \n",
      "6038      NaN   NaN   NaN   NaN   NaN   NaN   NaN   NaN   NaN   NaN  ...   \n",
      "6039      NaN   NaN   NaN   NaN   NaN   NaN   NaN   NaN   NaN   NaN  ...   \n",
      "6040      3.0   NaN   NaN   NaN   NaN   NaN   NaN   NaN   NaN   NaN  ...   \n",
      "\n",
      "MovieID  3943  3944  3945  3946  3947  3948  3949  3950  3951  3952  \n",
      "UserID                                                               \n",
      "1         NaN   NaN   NaN   NaN   NaN   NaN   NaN   NaN   NaN   NaN  \n",
      "2         NaN   NaN   NaN   NaN   NaN   NaN   NaN   NaN   NaN   NaN  \n",
      "3         NaN   NaN   NaN   NaN   NaN   NaN   NaN   NaN   NaN   NaN  \n",
      "4         NaN   NaN   NaN   NaN   NaN   NaN   NaN   NaN   NaN   NaN  \n",
      "5         NaN   NaN   NaN   NaN   NaN   NaN   NaN   NaN   NaN   NaN  \n",
      "...       ...   ...   ...   ...   ...   ...   ...   ...   ...   ...  \n",
      "6036      NaN   NaN   NaN   NaN   NaN   NaN   NaN   NaN   NaN   NaN  \n",
      "6037      NaN   NaN   NaN   NaN   NaN   NaN   NaN   NaN   NaN   NaN  \n",
      "6038      NaN   NaN   NaN   NaN   NaN   NaN   NaN   NaN   NaN   NaN  \n",
      "6039      NaN   NaN   NaN   NaN   NaN   NaN   NaN   NaN   NaN   NaN  \n",
      "6040      NaN   NaN   NaN   NaN   NaN   NaN   NaN   NaN   NaN   NaN  \n",
      "\n",
      "[6040 rows x 3683 columns]\n"
     ],
     "output_type": "stream"
    }
   ],
   "source": [
    "print(R)"
   ],
   "metadata": {
    "collapsed": false,
    "pycharm": {
     "name": "#%%\n",
     "is_executing": false
    }
   }
  },
  {
   "cell_type": "markdown",
   "source": [
    "Compute the sparsity ratio."
   ],
   "metadata": {
    "collapsed": false,
    "pycharm": {
     "name": "#%% md\n"
    }
   }
  },
  {
   "cell_type": "code",
   "execution_count": 25,
   "outputs": [
    {
     "name": "stdout",
     "text": [
      "The sparsity ratio is 0.96403\n"
     ],
     "output_type": "stream"
    }
   ],
   "source": [
    "total_count = n_users * n_movies\n",
    "na_count = R.isna().sum().sum()\n",
    "sparsity = round(float(na_count) / total_count, 5)\n",
    "print(f'The sparsity ratio is {sparsity}')"
   ],
   "metadata": {
    "collapsed": false,
    "pycharm": {
     "name": "#%%\n",
     "is_executing": false
    }
   }
  },
  {
   "cell_type": "markdown",
   "source": [
    "The paper suggests two approaches of filling the matrix: \n",
    "\n",
    "\n",
    "1) Using the average ratings for a customer,\n",
    "\n",
    "2) or using the average ratings for a product.\n",
    "\n",
    "Here we use the second approach to remove the sparsity."
   ],
   "metadata": {
    "collapsed": false,
    "pycharm": {
     "name": "#%% md\n"
    }
   }
  },
  {
   "cell_type": "code",
   "execution_count": 26,
   "outputs": [],
   "source": [
    " \n",
    "for idx_movie in unique_movies:\n",
    "    col = R[idx_movie]\n",
    "    col.fillna(col.mean(), inplace=True)"
   ],
   "metadata": {
    "collapsed": false,
    "pycharm": {
     "name": "#%%\n",
     "is_executing": false
    }
   }
  },
  {
   "cell_type": "code",
   "execution_count": 27,
   "outputs": [
    {
     "name": "stdout",
     "text": [
      "MovieID      1         2         3         4         5         6         7     \\\n",
      "UserID                                                                          \n",
      "1        5.000000  3.178131  3.028133  2.764706  2.983193  3.862299  3.415301   \n",
      "2        4.153614  3.178131  3.028133  2.764706  2.983193  3.862299  3.415301   \n",
      "3        4.153614  3.178131  3.028133  2.764706  2.983193  3.862299  3.415301   \n",
      "4        4.153614  3.178131  3.028133  2.764706  2.983193  3.862299  3.415301   \n",
      "5        4.153614  3.178131  3.028133  2.764706  2.983193  2.000000  3.415301   \n",
      "...           ...       ...       ...       ...       ...       ...       ...   \n",
      "6036     4.153614  3.178131  3.028133  2.764706  2.983193  3.862299  3.415301   \n",
      "6037     4.153614  3.178131  3.028133  2.764706  2.983193  3.862299  3.415301   \n",
      "6038     4.153614  3.178131  3.028133  2.764706  2.983193  3.862299  3.415301   \n",
      "6039     4.153614  3.178131  3.028133  2.764706  2.983193  3.862299  3.415301   \n",
      "6040     3.000000  3.178131  3.028133  2.764706  2.983193  3.862299  3.415301   \n",
      "\n",
      "MovieID  8     9         10    ...     3943      3944      3945      3946  \\\n",
      "UserID                         ...                                          \n",
      "1         3.0  2.75  3.536111  ...  3.08642  2.428571  1.472222  2.194805   \n",
      "2         3.0  2.75  3.536111  ...  3.08642  2.428571  1.472222  2.194805   \n",
      "3         3.0  2.75  3.536111  ...  3.08642  2.428571  1.472222  2.194805   \n",
      "4         3.0  2.75  3.536111  ...  3.08642  2.428571  1.472222  2.194805   \n",
      "5         3.0  2.75  3.536111  ...  3.08642  2.428571  1.472222  2.194805   \n",
      "...       ...   ...       ...  ...      ...       ...       ...       ...   \n",
      "6036      3.0  2.75  3.536111  ...  3.08642  2.428571  1.472222  2.194805   \n",
      "6037      3.0  2.75  3.536111  ...  3.08642  2.428571  1.472222  2.194805   \n",
      "6038      3.0  2.75  3.536111  ...  3.08642  2.428571  1.472222  2.194805   \n",
      "6039      3.0  2.75  3.536111  ...  3.08642  2.428571  1.472222  2.194805   \n",
      "6040      3.0  2.75  3.536111  ...  3.08642  2.428571  1.472222  2.194805   \n",
      "\n",
      "MovieID  3947      3948      3949      3950      3951      3952  \n",
      "UserID                                                           \n",
      "1         3.5  3.637155  4.180328  3.630435  4.034483  3.816393  \n",
      "2         3.5  3.637155  4.180328  3.630435  4.034483  3.816393  \n",
      "3         3.5  3.637155  4.180328  3.630435  4.034483  3.816393  \n",
      "4         3.5  3.637155  4.180328  3.630435  4.034483  3.816393  \n",
      "5         3.5  3.637155  4.180328  3.630435  4.034483  3.816393  \n",
      "...       ...       ...       ...       ...       ...       ...  \n",
      "6036      3.5  3.637155  4.180328  3.630435  4.034483  3.816393  \n",
      "6037      3.5  3.637155  4.180328  3.630435  4.034483  3.816393  \n",
      "6038      3.5  3.637155  4.180328  3.630435  4.034483  3.816393  \n",
      "6039      3.5  3.637155  4.180328  3.630435  4.034483  3.816393  \n",
      "6040      3.5  3.637155  4.180328  3.630435  4.034483  3.816393  \n",
      "\n",
      "[6040 rows x 3683 columns]\n"
     ],
     "output_type": "stream"
    }
   ],
   "source": [
    "print(R)"
   ],
   "metadata": {
    "collapsed": false,
    "pycharm": {
     "name": "#%%\n",
     "is_executing": false
    }
   }
  },
  {
   "cell_type": "markdown",
   "source": [
    "The paper suggests two normalization techniques: \n",
    "conversion of ratings to z-scores and subtraction of customer average for a product.\n",
    "\n",
    "Here we use the second technique."
   ],
   "metadata": {
    "collapsed": false,
    "pycharm": {
     "name": "#%% md\n"
    }
   }
  },
  {
   "cell_type": "code",
   "execution_count": 28,
   "outputs": [],
   "source": [
    "# First convert R to a numpy array\n",
    "\n",
    "R_norm = R.copy().to_numpy()\n",
    "mean_vals = []\n",
    "\n",
    "for idx_user in range(n_users):\n",
    "    row = R_norm[idx_user]\n",
    "    mean_val = np.mean(row)\n",
    "    mean_vals.append(mean_val)\n",
    "    R_norm[idx_user] -= mean_val\n",
    "\n",
    "mean_vals = np.array(mean_vals)\n",
    "    "
   ],
   "metadata": {
    "collapsed": false,
    "pycharm": {
     "name": "#%%\n",
     "is_executing": false
    }
   }
  },
  {
   "cell_type": "markdown",
   "source": [
    "Set dimension of the latent vector space, and compute the SVD."
   ],
   "metadata": {
    "collapsed": false,
    "pycharm": {
     "name": "#%% md\n",
     "is_executing": false
    }
   }
  },
  {
   "cell_type": "code",
   "execution_count": 29,
   "outputs": [],
   "source": [
    "k = 6\n",
    "Uk, Sk, Vk_t = svds(R_norm, k=k)"
   ],
   "metadata": {
    "collapsed": false,
    "pycharm": {
     "name": "#%%\n",
     "is_executing": false
    }
   }
  },
  {
   "cell_type": "code",
   "execution_count": 30,
   "outputs": [
    {
     "name": "stdout",
     "text": [
      "The shape of Uk is (6040, 6)\n",
      "The shape of Sk is (6,)\n",
      "The shape of Vk_t is (6, 3683)\n"
     ],
     "output_type": "stream"
    }
   ],
   "source": [
    "print(f'The shape of Uk is {Uk.shape}\\n'\n",
    "      f'The shape of Sk is {Sk.shape}\\n'\n",
    "      f'The shape of Vk_t is {Vk_t.shape}')\n",
    "\n"
   ],
   "metadata": {
    "collapsed": false,
    "pycharm": {
     "name": "#%%\n",
     "is_executing": false
    }
   }
  },
  {
   "cell_type": "code",
   "execution_count": 31,
   "outputs": [],
   "source": [
    "Sk_sqrt = np.sqrt(Sk)\n",
    "Sk_mat = np.diag(Sk_sqrt)"
   ],
   "metadata": {
    "collapsed": false,
    "pycharm": {
     "name": "#%%\n",
     "is_executing": false
    }
   }
  },
  {
   "cell_type": "code",
   "execution_count": 32,
   "outputs": [],
   "source": [
    "U = np.matmul(Uk, Sk_mat)\n",
    "Vt = np.matmul(Sk_mat, Vk_t)\n",
    "V = np.transpose(Vt)"
   ],
   "metadata": {
    "collapsed": false,
    "pycharm": {
     "name": "#%%\n",
     "is_executing": false
    }
   }
  },
  {
   "cell_type": "code",
   "execution_count": 33,
   "outputs": [],
   "source": [
    "def predict(U, V, mean_vals, idx_user, idx_item):\n",
    "    mean_val = mean_vals[idx_user]\n",
    "    user_vec = U[idx_user, :]\n",
    "    item_vec = V[idx_item, :]\n",
    "    pred_val = mean_val + np.inner(user_vec, item_vec)\n",
    "    return pred_val"
   ],
   "metadata": {
    "collapsed": false,
    "pycharm": {
     "name": "#%%\n",
     "is_executing": false
    }
   }
  },
  {
   "cell_type": "code",
   "execution_count": 34,
   "outputs": [],
   "source": [
    "true_ratings = R.to_numpy()"
   ],
   "metadata": {
    "collapsed": false,
    "pycharm": {
     "name": "#%%\n",
     "is_executing": false
    }
   }
  },
  {
   "cell_type": "code",
   "execution_count": 35,
   "outputs": [],
   "source": [
    "idx = 0"
   ],
   "metadata": {
    "collapsed": false,
    "pycharm": {
     "name": "#%%\n",
     "is_executing": false
    }
   }
  },
  {
   "cell_type": "code",
   "execution_count": 44,
   "outputs": [
    {
     "name": "stdout",
     "text": [
      "UserID = 1, MovieID = 919\n",
      "\n",
      "True rating is 4.249107780157031\n",
      "\n",
      "Pred rating is 4.336189338086129\n",
      "\n",
      "Error is 0.087081557929098\n",
      "\n"
     ],
     "output_type": "stream"
    }
   ],
   "source": [
    "idx += 1\n",
    "uID = ratings['UserID'][idx]\n",
    "mID = ratings['MovieID'][idx]\n",
    "idx_user = user_map[uID]\n",
    "idx_movie = movie_map[mID]\n",
    "true_val = true_ratings[idx_user, idx_movie]\n",
    "pred_val = predict(U, V, mean_vals, idx_user, idx_movie)\n",
    "print(f'UserID = {uID}, MovieID = {mID}\\n')\n",
    "print(f'True rating is {true_val}\\n')\n",
    "print(f'Pred rating is {pred_val}\\n')\n",
    "print(f'Error is {abs(true_val - pred_val)}\\n')\n",
    "\n",
    "    "
   ],
   "metadata": {
    "collapsed": false,
    "pycharm": {
     "name": "#%%\n",
     "is_executing": false
    }
   }
  },
  {
   "cell_type": "markdown",
   "source": [
    "Computing mean absolute error (MAE) of the predictions."
   ],
   "metadata": {
    "collapsed": false,
    "pycharm": {
     "name": "#%% md\n",
     "is_executing": false
    }
   }
  },
  {
   "cell_type": "code",
   "execution_count": 46,
   "outputs": [],
   "source": [
    "def compute_norm(matrix, mode='l2', axis=0):\n",
    "    matrix = np.array(matrix)\n",
    "    assert matrix.ndim > axis, 'something is wrong!'\n",
    "    if mode == 'l2':\n",
    "        squared = np.square(matrix)\n",
    "        added = np.sum(squared, axis=axis)\n",
    "        norm = np.sqrt(added)\n",
    "    elif mode == 'l1':\n",
    "        abs = np.abs(matrix)\n",
    "        norm = np.sum(abs, axis=axis)\n",
    "    elif mode == 'linf':\n",
    "        abs = np.abs(matrix)\n",
    "        norm = np.max(abs, axis=axis)\n",
    "    else:\n",
    "        raise ValueError('wrong choice of norm!')\n",
    "    return norm\n"
   ],
   "metadata": {
    "collapsed": false,
    "pycharm": {
     "name": "#%%\n",
     "is_executing": false
    }
   }
  },
  {
   "cell_type": "code",
   "execution_count": 56,
   "outputs": [
    {
     "name": "stdout",
     "text": [
      "x = 0.8, mae = 0.7433810836698924\n"
     ],
     "output_type": "stream"
    }
   ],
   "source": [
    "test.reset_index(inplace=True)\n",
    "n_test_ratings = test.shape[0]\n",
    "errors = []\n",
    "for idx in range(n_test_ratings):\n",
    "    uID = test['UserID'][idx]\n",
    "    mID = test['MovieID'][idx]\n",
    "    if uID not in user_map or mID not in movie_map:\n",
    "        continue\n",
    "    idx_user = user_map[uID]\n",
    "    idx_movie = movie_map[mID]\n",
    "    true_val = test['Rating'][idx]\n",
    "    pred_val = predict(U, V, mean_vals, idx_user, idx_movie)\n",
    "    diff = true_val - pred_val\n",
    "    errors.append(diff)\n",
    "mae_error = compute_norm(errors, mode='l1') / len(errors)\n",
    "print(f'x = {x}, mae = {mae_error}')\n",
    "\n"
   ],
   "metadata": {
    "collapsed": false,
    "pycharm": {
     "name": "#%%\n",
     "is_executing": false
    }
   }
  },
  {
   "cell_type": "code",
   "execution_count": 54,
   "outputs": [
    {
     "data": {
      "text/plain": "468372    2887\n450418    2776\n314880    1880\n411694    2472\n403138    2407\n          ... \n469741    2894\n604451    3675\n835768    5025\n687451    4115\n595695    3624\nName: UserID, Length: 200042, dtype: int64"
     },
     "metadata": {},
     "output_type": "execute_result",
     "execution_count": 54
    }
   ],
   "source": [
    "test['UserID']"
   ],
   "metadata": {
    "collapsed": false,
    "pycharm": {
     "name": "#%%\n",
     "is_executing": false
    }
   }
  },
  {
   "cell_type": "code",
   "execution_count": null,
   "outputs": [],
   "source": [
    "\n"
   ],
   "metadata": {
    "collapsed": false,
    "pycharm": {
     "name": "#%%\n"
    }
   }
  }
 ],
 "metadata": {
  "kernelspec": {
   "display_name": "Python 3",
   "language": "python",
   "name": "python3"
  },
  "language_info": {
   "codemirror_mode": {
    "name": "ipython",
    "version": 2
   },
   "file_extension": ".py",
   "mimetype": "text/x-python",
   "name": "python",
   "nbconvert_exporter": "python",
   "pygments_lexer": "ipython2",
   "version": "2.7.6"
  },
  "pycharm": {
   "stem_cell": {
    "cell_type": "raw",
    "source": [],
    "metadata": {
     "collapsed": false
    }
   }
  }
 },
 "nbformat": 4,
 "nbformat_minor": 0
}