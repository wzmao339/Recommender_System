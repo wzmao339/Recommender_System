{
 "cells": [
  {
   "cell_type": "code",
   "execution_count": 1,
   "metadata": {
    "collapsed": true,
    "pycharm": {
     "is_executing": false
    }
   },
   "outputs": [],
   "source": [
    "import numpy as np\n",
    "import pandas as pd\n",
    "import matplotlib.pyplot as plt\n",
    "from scipy.sparse.linalg import svds\n",
    "from sklearn.model_selection import train_test_split"
   ]
  },
  {
   "cell_type": "code",
   "execution_count": 2,
   "outputs": [],
   "source": [
    "ratings_path = 'movielens_1m/ratings.dat'\n",
    "users_path = 'movielens_1m/users.dat'\n",
    "movies_path = 'movielens_1m/movies.dat'"
   ],
   "metadata": {
    "collapsed": false,
    "pycharm": {
     "name": "#%%\n",
     "is_executing": false
    }
   }
  },
  {
   "cell_type": "code",
   "execution_count": 3,
   "outputs": [
    {
     "name": "stderr",
     "text": [
      "C:\\Users\\wzmao\\Anaconda3\\envs\\Recommender_System\\lib\\site-packages\\ipykernel_launcher.py:1: ParserWarning: Falling back to the 'python' engine because the 'c' engine does not support regex separators (separators > 1 char and different from '\\s+' are interpreted as regex); you can avoid this warning by specifying engine='python'.\n",
      "  \"\"\"Entry point for launching an IPython kernel.\n"
     ],
     "output_type": "stream"
    }
   ],
   "source": [
    "ratings = pd.read_csv(ratings_path, sep=\"::\", names=['UserID', 'MovieID', 'Rating', 'Timestamp'])"
   ],
   "metadata": {
    "collapsed": false,
    "pycharm": {
     "name": "#%%\n",
     "is_executing": false
    }
   }
  },
  {
   "cell_type": "code",
   "execution_count": 4,
   "outputs": [
    {
     "data": {
      "text/plain": "   UserID  MovieID  Rating  Timestamp\n0       1     1193       5  978300760\n1       1      661       3  978302109\n2       1      914       3  978301968\n3       1     3408       4  978300275\n4       1     2355       5  978824291",
      "text/html": "<div>\n<style scoped>\n    .dataframe tbody tr th:only-of-type {\n        vertical-align: middle;\n    }\n\n    .dataframe tbody tr th {\n        vertical-align: top;\n    }\n\n    .dataframe thead th {\n        text-align: right;\n    }\n</style>\n<table border=\"1\" class=\"dataframe\">\n  <thead>\n    <tr style=\"text-align: right;\">\n      <th></th>\n      <th>UserID</th>\n      <th>MovieID</th>\n      <th>Rating</th>\n      <th>Timestamp</th>\n    </tr>\n  </thead>\n  <tbody>\n    <tr>\n      <th>0</th>\n      <td>1</td>\n      <td>1193</td>\n      <td>5</td>\n      <td>978300760</td>\n    </tr>\n    <tr>\n      <th>1</th>\n      <td>1</td>\n      <td>661</td>\n      <td>3</td>\n      <td>978302109</td>\n    </tr>\n    <tr>\n      <th>2</th>\n      <td>1</td>\n      <td>914</td>\n      <td>3</td>\n      <td>978301968</td>\n    </tr>\n    <tr>\n      <th>3</th>\n      <td>1</td>\n      <td>3408</td>\n      <td>4</td>\n      <td>978300275</td>\n    </tr>\n    <tr>\n      <th>4</th>\n      <td>1</td>\n      <td>2355</td>\n      <td>5</td>\n      <td>978824291</td>\n    </tr>\n  </tbody>\n</table>\n</div>"
     },
     "metadata": {},
     "output_type": "execute_result",
     "execution_count": 4
    }
   ],
   "source": [
    "ratings.head()"
   ],
   "metadata": {
    "collapsed": false,
    "pycharm": {
     "name": "#%%\n",
     "is_executing": false
    }
   }
  },
  {
   "cell_type": "markdown",
   "source": [
    "Split into train and test data"
   ],
   "metadata": {
    "collapsed": false
   }
  },
  {
   "cell_type": "code",
   "execution_count": 5,
   "outputs": [],
   "source": [
    "np.random.seed(1234)\n",
    "# train data ratio\n",
    "x = 0.8\n",
    "train, test = train_test_split(ratings, train_size=x)"
   ],
   "metadata": {
    "collapsed": false,
    "pycharm": {
     "name": "#%%\n",
     "is_executing": false
    }
   }
  },
  {
   "cell_type": "code",
   "execution_count": 6,
   "outputs": [
    {
     "name": "stdout",
     "text": [
      "\n",
      "Number of users: 6040 \n",
      "\n",
      "Number of movies: 3683\n"
     ],
     "output_type": "stream"
    }
   ],
   "source": [
    "unique_users = sorted(list(set(train.UserID)))\n",
    "unique_movies = sorted(list(set(train.MovieID)))\n",
    "user_map, movie_map = {}, {}\n",
    "for idx, userID in enumerate(unique_users):\n",
    "    user_map[userID] = idx\n",
    "for idx, itemID in enumerate(unique_movies):\n",
    "    movie_map[itemID] = idx\n",
    "n_users = len(unique_users)\n",
    "n_movies = len(unique_movies)\n",
    "print(f'\\nNumber of users: {n_users} \\n')\n",
    "print(f'Number of movies: {n_movies}')\n"
   ],
   "metadata": {
    "collapsed": false,
    "pycharm": {
     "name": "#%%\n",
     "is_executing": false
    }
   }
  },
  {
   "cell_type": "code",
   "execution_count": 7,
   "outputs": [],
   "source": [
    "train.reset_index(inplace=True)\n",
    "samples = []\n",
    "for idx in range(train.shape[0]):\n",
    "    u = user_map[train['UserID'][idx]]\n",
    "    i = movie_map[train['MovieID'][idx]]\n",
    "    r = train['Rating'][idx]\n",
    "    samples.append((u, i, r))"
   ],
   "metadata": {
    "collapsed": false,
    "pycharm": {
     "name": "#%%\n",
     "is_executing": false
    }
   }
  },
  {
   "cell_type": "markdown",
   "source": [
    "Initialize P, Q"
   ],
   "metadata": {
    "collapsed": false,
    "pycharm": {
     "name": "#%% md\n",
     "is_executing": false
    }
   }
  },
  {
   "cell_type": "code",
   "execution_count": 8,
   "outputs": [],
   "source": [
    "k = 10\n",
    "P = np.random.normal(scale=1./k, size=(n_users, k))\n",
    "Q = np.random.normal(scale=1./k, size=(n_movies, k))"
   ],
   "metadata": {
    "collapsed": false,
    "pycharm": {
     "name": "#%%\n",
     "is_executing": false
    }
   }
  },
  {
   "cell_type": "code",
   "execution_count": 9,
   "outputs": [],
   "source": [
    "def predict(P, Q, u, i):\n",
    "    assert P.shape[1] == Q.shape[1], 'Shapes of P and Q does not match!'\n",
    "    p, q = P[u, :], Q[i, :]\n",
    "    return np.inner(p, q)\n",
    "\n",
    "def sgd(P, Q, samples, lr=0.1, lambd=0.01):\n",
    "    for u, i, r in samples:\n",
    "        pred_val = predict(P, Q, u, i)\n",
    "        e = r - pred_val\n",
    "        Q_i = Q[i, :].copy()\n",
    "        Q[i, :] += lr * (e*P[u, :] - lambd*Q[i, :])\n",
    "        P[u, :] += lr * (e*Q_i - lambd*P[u, :])\n",
    "    return P, Q\n",
    "\n",
    "def mse(P, Q, samples):\n",
    "    predicted = np.matmul(P, Q.transpose())\n",
    "    error = 0\n",
    "    for u, i, r in samples:\n",
    "        pred_val = predict(P, Q, u, i)\n",
    "        e = r - pred_val\n",
    "        error += pow(e, 2)\n",
    "    return error / len(samples)\n",
    "        "
   ],
   "metadata": {
    "collapsed": false,
    "pycharm": {
     "name": "#%%\n",
     "is_executing": false
    }
   }
  },
  {
   "cell_type": "code",
   "execution_count": 10,
   "outputs": [
    {
     "name": "stdout",
     "text": [
      "Iteration: 1 ; error = 1.1813\n",
      "Iteration: 2 ; error = 1.1885\n",
      "Iteration: 3 ; error = 1.1623\n",
      "Iteration: 4 ; error = 1.1257\n",
      "Iteration: 5 ; error = 1.1325\n",
      "Iteration: 6 ; error = 1.1358\n",
      "Iteration: 7 ; error = 1.1465\n",
      "Iteration: 8 ; error = 1.1180\n",
      "Iteration: 9 ; error = 1.1415\n",
      "Iteration: 10 ; error = 1.1112\n",
      "Iteration: 11 ; error = 1.1121\n",
      "Iteration: 12 ; error = 1.1311\n",
      "Iteration: 13 ; error = 1.1218\n",
      "Iteration: 14 ; error = 1.1065\n",
      "Iteration: 15 ; error = 1.1303\n",
      "Iteration: 16 ; error = 1.1144\n",
      "Iteration: 17 ; error = 1.1254\n",
      "Iteration: 18 ; error = 1.1226\n",
      "Iteration: 19 ; error = 1.1253\n",
      "Iteration: 20 ; error = 1.1035\n",
      "Iteration: 21 ; error = 1.1184\n",
      "Iteration: 22 ; error = 1.1264\n",
      "Iteration: 23 ; error = 1.1102\n",
      "Iteration: 24 ; error = 1.1352\n",
      "Iteration: 25 ; error = 1.1173\n",
      "Iteration: 26 ; error = 1.1188\n",
      "Iteration: 27 ; error = 1.1186\n",
      "Iteration: 28 ; error = 1.1321\n",
      "Iteration: 29 ; error = 1.1071\n",
      "Iteration: 30 ; error = 1.1067\n",
      "Iteration: 31 ; error = 1.1286\n",
      "Iteration: 32 ; error = 1.1119\n",
      "Iteration: 33 ; error = 1.1199\n",
      "Iteration: 34 ; error = 1.1094\n",
      "Iteration: 35 ; error = 1.1095\n",
      "Iteration: 36 ; error = 1.1385\n",
      "Iteration: 37 ; error = 1.1119\n",
      "Iteration: 38 ; error = 1.1152\n",
      "Iteration: 39 ; error = 1.1240\n",
      "Iteration: 40 ; error = 1.1199\n",
      "Iteration: 41 ; error = 1.1076\n",
      "Iteration: 42 ; error = 1.1183\n",
      "Iteration: 43 ; error = 1.1154\n",
      "Iteration: 44 ; error = 1.1112\n",
      "Iteration: 45 ; error = 1.1324\n",
      "Iteration: 46 ; error = 1.1384\n",
      "Iteration: 47 ; error = 1.1277\n",
      "Iteration: 48 ; error = 1.1138\n",
      "Iteration: 49 ; error = 1.1065\n",
      "Iteration: 50 ; error = 1.1053\n",
      "Iteration: 51 ; error = 1.0961\n",
      "Iteration: 52 ; error = 1.1212\n",
      "Iteration: 53 ; error = 1.1039\n",
      "Iteration: 54 ; error = 1.1132\n",
      "Iteration: 55 ; error = 1.1213\n",
      "Iteration: 56 ; error = 1.1180\n",
      "Iteration: 57 ; error = 1.1270\n",
      "Iteration: 58 ; error = 1.1254\n",
      "Iteration: 59 ; error = 1.1145\n",
      "Iteration: 60 ; error = 1.1200\n",
      "Iteration: 61 ; error = 1.1375\n",
      "Iteration: 62 ; error = 1.1351\n",
      "Iteration: 63 ; error = 1.1353\n",
      "Iteration: 64 ; error = 1.1094\n",
      "Iteration: 65 ; error = 1.1261\n",
      "Iteration: 66 ; error = 1.1071\n",
      "Iteration: 67 ; error = 1.1294\n",
      "Iteration: 68 ; error = 1.1199\n",
      "Iteration: 69 ; error = 1.1207\n",
      "Iteration: 70 ; error = 1.1224\n",
      "Iteration: 71 ; error = 1.1279\n",
      "Iteration: 72 ; error = 1.1125\n",
      "Iteration: 73 ; error = 1.1160\n",
      "Iteration: 74 ; error = 1.1292\n",
      "Iteration: 75 ; error = 1.1123\n",
      "Iteration: 76 ; error = 1.1210\n",
      "Iteration: 77 ; error = 1.1268\n",
      "Iteration: 78 ; error = 1.1023\n",
      "Iteration: 79 ; error = 1.1138\n",
      "Iteration: 80 ; error = 1.0962\n",
      "Iteration: 81 ; error = 1.1110\n",
      "Iteration: 82 ; error = 1.1183\n",
      "Iteration: 83 ; error = 1.1310\n",
      "Iteration: 84 ; error = 1.1120\n",
      "Iteration: 85 ; error = 1.1159\n",
      "Iteration: 86 ; error = 1.1239\n",
      "Iteration: 87 ; error = 1.1275\n",
      "Iteration: 88 ; error = 1.1293\n",
      "Iteration: 89 ; error = 1.1159\n",
      "Iteration: 90 ; error = 1.1137\n",
      "Iteration: 91 ; error = 1.1113\n",
      "Iteration: 92 ; error = 1.1258\n",
      "Iteration: 93 ; error = 1.1235\n",
      "Iteration: 94 ; error = 1.1193\n",
      "Iteration: 95 ; error = 1.1108\n",
      "Iteration: 96 ; error = 1.1171\n",
      "Iteration: 97 ; error = 1.1322\n",
      "Iteration: 98 ; error = 1.1158\n",
      "Iteration: 99 ; error = 1.1137\n",
      "Iteration: 100 ; error = 1.1267\n"
     ],
     "output_type": "stream"
    }
   ],
   "source": [
    "n_iter = 100\n",
    "lr = 0.1\n",
    "lambd = 0.01\n",
    "training_process = []\n",
    "for idx in range(n_iter):\n",
    "    np.random.shuffle(samples)\n",
    "    P, Q = sgd(P, Q, samples, lr=lr, lambd=lambd)\n",
    "    error = mse(P, Q, samples)\n",
    "    training_process.append((idx, error))\n",
    "    if (idx + 1) % 1 == 0:\n",
    "        print(\"Iteration: %d ; error = %.4f\" % (idx+1, error))\n",
    "    "
   ],
   "metadata": {
    "collapsed": false,
    "pycharm": {
     "name": "#%%\n",
     "is_executing": false
    }
   }
  },
  {
   "cell_type": "code",
   "execution_count": null,
   "outputs": [],
   "source": [
    "\n"
   ],
   "metadata": {
    "collapsed": false,
    "pycharm": {
     "name": "#%%\n"
    }
   }
  }
 ],
 "metadata": {
  "kernelspec": {
   "display_name": "Python 3",
   "language": "python",
   "name": "python3"
  },
  "language_info": {
   "codemirror_mode": {
    "name": "ipython",
    "version": 2
   },
   "file_extension": ".py",
   "mimetype": "text/x-python",
   "name": "python",
   "nbconvert_exporter": "python",
   "pygments_lexer": "ipython2",
   "version": "2.7.6"
  },
  "pycharm": {
   "stem_cell": {
    "cell_type": "raw",
    "source": [],
    "metadata": {
     "collapsed": false
    }
   }
  }
 },
 "nbformat": 4,
 "nbformat_minor": 0
}